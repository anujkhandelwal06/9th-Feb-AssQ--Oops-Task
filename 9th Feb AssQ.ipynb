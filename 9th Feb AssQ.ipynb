{
 "cells": [
  {
   "cell_type": "code",
   "execution_count": 9,
   "id": "11ee6c8d-2174-45f2-9340-8b623f95e364",
   "metadata": {},
   "outputs": [],
   "source": [
    "#Q1 Create a vehicle class with an init method having instance variables as name_of_vehicle, max_speed and average_of_vehicle. \n",
    "\n",
    "class vehicle:\n",
    "    def __init__(self , name_of_vehicle , max_speed , average_of_vehicle) :\n",
    "        \n",
    "        self.name_of_vehicle = name_of_vehicle\n",
    "        self.max_speed = max_speed\n",
    "        self.average_of_vehicle =average_of_vehicle\n",
    "        \n",
    "        "
   ]
  },
  {
   "cell_type": "code",
   "execution_count": 10,
   "id": "cacbabd2-d2f7-4d44-ad26-9e4ce71006de",
   "metadata": {},
   "outputs": [],
   "source": [
    "car= vehicle(\"Toyota\",200,70)"
   ]
  },
  {
   "cell_type": "code",
   "execution_count": 11,
   "id": "a622f134-08d9-452b-ade1-8dd28703dc21",
   "metadata": {},
   "outputs": [
    {
     "name": "stdout",
     "output_type": "stream",
     "text": [
      "Toyota\n"
     ]
    }
   ],
   "source": [
    "print(car.name_of_vehicle)"
   ]
  },
  {
   "cell_type": "code",
   "execution_count": 12,
   "id": "cd6f8d3a-67db-48f3-8c65-620944bc731f",
   "metadata": {},
   "outputs": [
    {
     "name": "stdout",
     "output_type": "stream",
     "text": [
      "200\n"
     ]
    }
   ],
   "source": [
    "print(car.max_speed)"
   ]
  },
  {
   "cell_type": "code",
   "execution_count": 13,
   "id": "cc72ee06-fa02-4778-b4d7-f8f96a13f536",
   "metadata": {},
   "outputs": [
    {
     "name": "stdout",
     "output_type": "stream",
     "text": [
      "70\n"
     ]
    }
   ],
   "source": [
    "print(car.average_of_vehicle)"
   ]
  },
  {
   "cell_type": "code",
   "execution_count": 16,
   "id": "6a16e002-4ab2-4222-95ee-4e85874c0bbd",
   "metadata": {},
   "outputs": [],
   "source": [
    "#Q2. Create a child class car from the vehicle class created in Que 1, which will inherit the vehicle class. \n",
    "#Create a method named seating_capacity which takes capacity as an argument and returns the name of \n",
    "#the vehicle and its seating capacity\n",
    "\n",
    "class Car(vehicle):\n",
    "    def seating_capacity(self,capacity):\n",
    "        return f\"{self.name_of_vehicle} has a seating capacity of {capacity} passengers.\"\n",
    "#f\":Literal String Interpolation or more commonly as F-strings.The idea behind f-strings is to make string interpolation simpler. "
   ]
  },
  {
   "cell_type": "code",
   "execution_count": 17,
   "id": "242e5a3a-24a7-4807-a024-1dfd805dc6ce",
   "metadata": {},
   "outputs": [
    {
     "name": "stdout",
     "output_type": "stream",
     "text": [
      "Toyota has a seating capacity of 5 passengers.\n"
     ]
    }
   ],
   "source": [
    "my_car = Car(\"Toyota\", 120, 30)\n",
    "print(my_car.seating_capacity(5))"
   ]
  },
  {
   "cell_type": "code",
   "execution_count": 21,
   "id": "7fdd0263-f38a-4749-8120-9977d1301ef3",
   "metadata": {},
   "outputs": [],
   "source": [
    "#Q3. What is multiple inheritance? Write a python code to demonstrate multiple inheritance\n",
    "\n",
    "#Multiple inheritance is a feature in object-oriented programming where a subclass can inherit properties and methods from multiple parent classes. \n",
    "#This means that a single subclass can inherit from more than one parent class, allowing it to combine and reuse functionality from different sources.\n",
    "\n",
    "\n",
    "class A:\n",
    "    def method1(self):\n",
    "        print(\"This is method 1 of class A.\")\n",
    "        \n",
    "class B:\n",
    "    def method2(self):\n",
    "        print(\"This is method 2 of class B.\")\n",
    "        \n",
    "class C(A,B):\n",
    "    def method3(self):\n",
    "        print(\"This is method 3 of class C.\")\n",
    "        \n",
    "class D(B,A):\n",
    "    def method4(self):\n",
    "        print(\"This is method 4 of class D.\")"
   ]
  },
  {
   "cell_type": "code",
   "execution_count": 23,
   "id": "38f1ce9b-0adc-4422-bbbc-6cfd8ef62400",
   "metadata": {},
   "outputs": [
    {
     "name": "stdout",
     "output_type": "stream",
     "text": [
      "This is method 1 of class A.\n",
      "This is method 2 of class B.\n",
      "This is method 3 of class C.\n"
     ]
    }
   ],
   "source": [
    "my_c=C()\n",
    "my_c.method1()\n",
    "my_c.method2()\n",
    "my_c.method3()"
   ]
  },
  {
   "cell_type": "code",
   "execution_count": 28,
   "id": "d1899547-53f1-422f-b08f-e08b0eb9635d",
   "metadata": {},
   "outputs": [],
   "source": [
    "#Q4. What are getter and setter in python? Create a class and create a getter and a setter method in this class.\n",
    "\n",
    "#Getters and setters are methods used to access and modify object properties.\n",
    "#Getters are used to retrieve the value of a property, while setters are used to change the value of a property.\n",
    "#By using getters and setters, we can control access to object properties and prevent them from being modified directly.\n",
    "\n",
    "class car :\n",
    "    def __init__(self , year , make , model , speed) :\n",
    "    \n",
    "        self.__year = year\n",
    "        self.__make = make\n",
    "        self.__model = model\n",
    "        self.__speed=0\n",
    "\n",
    "    def set_speed(self,speed) :\n",
    "         self.__speed = 0 if speed < 0 else speed\n",
    "\n",
    "    def get_speed(self) :\n",
    "        return self.__speed\n"
   ]
  },
  {
   "cell_type": "code",
   "execution_count": 30,
   "id": "3936f1b3-e2eb-41b7-a47d-479176ec0d3c",
   "metadata": {},
   "outputs": [],
   "source": [
    "c = car(2021,\"toyata\",\"innova\",177)"
   ]
  },
  {
   "cell_type": "code",
   "execution_count": 31,
   "id": "e5e53fcb-3a27-4f75-ac37-c36924bd9a8b",
   "metadata": {},
   "outputs": [
    {
     "data": {
      "text/plain": [
       "2021"
      ]
     },
     "execution_count": 31,
     "metadata": {},
     "output_type": "execute_result"
    }
   ],
   "source": [
    "c._car__year"
   ]
  },
  {
   "cell_type": "code",
   "execution_count": 32,
   "id": "5aee12fa-cd9e-4d34-bf9f-5b979e8188bc",
   "metadata": {},
   "outputs": [],
   "source": [
    "c.set_speed(-2333)"
   ]
  },
  {
   "cell_type": "code",
   "execution_count": 33,
   "id": "68e2d434-e7d5-4dfd-ab8b-a9d425090442",
   "metadata": {},
   "outputs": [
    {
     "data": {
      "text/plain": [
       "0"
      ]
     },
     "execution_count": 33,
     "metadata": {},
     "output_type": "execute_result"
    }
   ],
   "source": [
    "c.get_speed()"
   ]
  },
  {
   "cell_type": "code",
   "execution_count": 34,
   "id": "36988c2c-3c95-4175-ba96-5ab6443b8a17",
   "metadata": {},
   "outputs": [],
   "source": [
    "c.set_speed(234)"
   ]
  },
  {
   "cell_type": "code",
   "execution_count": 35,
   "id": "0d48187c-c9cf-40e8-90b3-0de8b0f49b88",
   "metadata": {},
   "outputs": [
    {
     "data": {
      "text/plain": [
       "234"
      ]
     },
     "execution_count": 35,
     "metadata": {},
     "output_type": "execute_result"
    }
   ],
   "source": [
    "c.get_speed()"
   ]
  },
  {
   "cell_type": "code",
   "execution_count": null,
   "id": "ed13dcdd-9cde-4706-b870-ab7b6544c82d",
   "metadata": {},
   "outputs": [],
   "source": [
    "#Q5.What is method overriding in python? Write a python code to demonstrate method overriding\n",
    "\n",
    "#Method overriding is a feature of object-oriented programming that allows a subclass to provide a different implementation of a method that is already defined in its superclass. \n",
    "#This allows the subclass to customize the behavior of the inherited method to better suit its specific needs.\n",
    "\n",
    "class Parent:\n",
    "    def greet(self):\n",
    "        print(\"Hello from Parent\")\n",
    "        \n",
    "class Child(Parent):\n",
    "    def greet(self):\n",
    "        print(\"Hello from child\")\n",
    "        \n",
    "        \n",
    "\n"
   ]
  }
 ],
 "metadata": {
  "kernelspec": {
   "display_name": "Python 3 (ipykernel)",
   "language": "python",
   "name": "python3"
  },
  "language_info": {
   "codemirror_mode": {
    "name": "ipython",
    "version": 3
   },
   "file_extension": ".py",
   "mimetype": "text/x-python",
   "name": "python",
   "nbconvert_exporter": "python",
   "pygments_lexer": "ipython3",
   "version": "3.10.8"
  }
 },
 "nbformat": 4,
 "nbformat_minor": 5
}
